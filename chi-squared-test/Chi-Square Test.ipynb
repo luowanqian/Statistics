{
 "cells": [
  {
   "cell_type": "markdown",
   "metadata": {},
   "source": [
    "# Chi-Square Test"
   ]
  },
  {
   "cell_type": "markdown",
   "metadata": {},
   "source": [
    "## Setup"
   ]
  },
  {
   "cell_type": "code",
   "execution_count": 1,
   "metadata": {
    "ExecuteTime": {
     "end_time": "2018-04-05T04:01:57.919188Z",
     "start_time": "2018-04-05T04:01:57.124992Z"
    }
   },
   "outputs": [],
   "source": [
    "import pandas as pd\n",
    "import scipy.stats as stats\n",
    "import numpy as np"
   ]
  },
  {
   "cell_type": "markdown",
   "metadata": {},
   "source": [
    "## Example 1"
   ]
  },
  {
   "cell_type": "markdown",
   "metadata": {},
   "source": [
    "Let's apply the Chi-square Test of Independence to our example where we have as random sample of 500 U.S. adults who are questioned regarding their political affiliation and opinion on a tax reform bill. We will test if the political affiliation and their opinion on a tax reform bill are dependent at a 5% level of significance."
   ]
  },
  {
   "cell_type": "markdown",
   "metadata": {},
   "source": [
    "### Load data"
   ]
  },
  {
   "cell_type": "code",
   "execution_count": 2,
   "metadata": {
    "ExecuteTime": {
     "end_time": "2018-04-05T04:01:57.928554Z",
     "start_time": "2018-04-05T04:01:57.921401Z"
    }
   },
   "outputs": [],
   "source": [
    "df = pd.read_csv('political_affiliation.txt', sep='\\t')\n",
    "df.index = ['democrat', 'republican']"
   ]
  },
  {
   "cell_type": "markdown",
   "metadata": {},
   "source": [
    "### Observed table"
   ]
  },
  {
   "cell_type": "code",
   "execution_count": 3,
   "metadata": {
    "ExecuteTime": {
     "end_time": "2018-04-05T04:01:57.952464Z",
     "start_time": "2018-04-05T04:01:57.930853Z"
    }
   },
   "outputs": [
    {
     "data": {
      "text/html": [
       "<div>\n",
       "<style scoped>\n",
       "    .dataframe tbody tr th:only-of-type {\n",
       "        vertical-align: middle;\n",
       "    }\n",
       "\n",
       "    .dataframe tbody tr th {\n",
       "        vertical-align: top;\n",
       "    }\n",
       "\n",
       "    .dataframe thead th {\n",
       "        text-align: right;\n",
       "    }\n",
       "</style>\n",
       "<table border=\"1\" class=\"dataframe\">\n",
       "  <thead>\n",
       "    <tr style=\"text-align: right;\">\n",
       "      <th></th>\n",
       "      <th>favor</th>\n",
       "      <th>indifferent</th>\n",
       "      <th>opposed</th>\n",
       "    </tr>\n",
       "  </thead>\n",
       "  <tbody>\n",
       "    <tr>\n",
       "      <th>democrat</th>\n",
       "      <td>138</td>\n",
       "      <td>83</td>\n",
       "      <td>64</td>\n",
       "    </tr>\n",
       "    <tr>\n",
       "      <th>republican</th>\n",
       "      <td>64</td>\n",
       "      <td>67</td>\n",
       "      <td>84</td>\n",
       "    </tr>\n",
       "  </tbody>\n",
       "</table>\n",
       "</div>"
      ],
      "text/plain": [
       "            favor  indifferent  opposed\n",
       "democrat      138           83       64\n",
       "republican     64           67       84"
      ]
     },
     "execution_count": 3,
     "metadata": {},
     "output_type": "execute_result"
    }
   ],
   "source": [
    "observed = df.copy()\n",
    "observed"
   ]
  },
  {
   "cell_type": "markdown",
   "metadata": {},
   "source": [
    "### Calculate totals"
   ]
  },
  {
   "cell_type": "code",
   "execution_count": 4,
   "metadata": {
    "ExecuteTime": {
     "end_time": "2018-04-05T04:01:57.969395Z",
     "start_time": "2018-04-05T04:01:57.954735Z"
    }
   },
   "outputs": [
    {
     "data": {
      "text/html": [
       "<div>\n",
       "<style scoped>\n",
       "    .dataframe tbody tr th:only-of-type {\n",
       "        vertical-align: middle;\n",
       "    }\n",
       "\n",
       "    .dataframe tbody tr th {\n",
       "        vertical-align: top;\n",
       "    }\n",
       "\n",
       "    .dataframe thead th {\n",
       "        text-align: right;\n",
       "    }\n",
       "</style>\n",
       "<table border=\"1\" class=\"dataframe\">\n",
       "  <thead>\n",
       "    <tr style=\"text-align: right;\">\n",
       "      <th></th>\n",
       "      <th>favor</th>\n",
       "      <th>indifferent</th>\n",
       "      <th>opposed</th>\n",
       "      <th>row_totals</th>\n",
       "    </tr>\n",
       "  </thead>\n",
       "  <tbody>\n",
       "    <tr>\n",
       "      <th>democrat</th>\n",
       "      <td>138</td>\n",
       "      <td>83</td>\n",
       "      <td>64</td>\n",
       "      <td>285</td>\n",
       "    </tr>\n",
       "    <tr>\n",
       "      <th>republican</th>\n",
       "      <td>64</td>\n",
       "      <td>67</td>\n",
       "      <td>84</td>\n",
       "      <td>215</td>\n",
       "    </tr>\n",
       "    <tr>\n",
       "      <th>col_totals</th>\n",
       "      <td>202</td>\n",
       "      <td>150</td>\n",
       "      <td>148</td>\n",
       "      <td>500</td>\n",
       "    </tr>\n",
       "  </tbody>\n",
       "</table>\n",
       "</div>"
      ],
      "text/plain": [
       "            favor  indifferent  opposed  row_totals\n",
       "democrat      138           83       64         285\n",
       "republican     64           67       84         215\n",
       "col_totals    202          150      148         500"
      ]
     },
     "execution_count": 4,
     "metadata": {},
     "output_type": "execute_result"
    }
   ],
   "source": [
    "df['row_totals'] = df.sum(axis=1)\n",
    "df = df.append(df.sum(axis=0), ignore_index=True)\n",
    "df.index = ['democrat', 'republican', 'col_totals']\n",
    "\n",
    "df"
   ]
  },
  {
   "cell_type": "markdown",
   "metadata": {},
   "source": [
    "### Calculate expected table"
   ]
  },
  {
   "cell_type": "code",
   "execution_count": 5,
   "metadata": {
    "ExecuteTime": {
     "end_time": "2018-04-05T04:01:57.992469Z",
     "start_time": "2018-04-05T04:01:57.971820Z"
    }
   },
   "outputs": [
    {
     "data": {
      "text/html": [
       "<div>\n",
       "<style scoped>\n",
       "    .dataframe tbody tr th:only-of-type {\n",
       "        vertical-align: middle;\n",
       "    }\n",
       "\n",
       "    .dataframe tbody tr th {\n",
       "        vertical-align: top;\n",
       "    }\n",
       "\n",
       "    .dataframe thead th {\n",
       "        text-align: right;\n",
       "    }\n",
       "</style>\n",
       "<table border=\"1\" class=\"dataframe\">\n",
       "  <thead>\n",
       "    <tr style=\"text-align: right;\">\n",
       "      <th></th>\n",
       "      <th>favor</th>\n",
       "      <th>indifferent</th>\n",
       "      <th>opposed</th>\n",
       "    </tr>\n",
       "  </thead>\n",
       "  <tbody>\n",
       "    <tr>\n",
       "      <th>democrat</th>\n",
       "      <td>115.14</td>\n",
       "      <td>85.5</td>\n",
       "      <td>84.36</td>\n",
       "    </tr>\n",
       "    <tr>\n",
       "      <th>republican</th>\n",
       "      <td>86.86</td>\n",
       "      <td>64.5</td>\n",
       "      <td>63.64</td>\n",
       "    </tr>\n",
       "  </tbody>\n",
       "</table>\n",
       "</div>"
      ],
      "text/plain": [
       "             favor  indifferent  opposed\n",
       "democrat    115.14         85.5    84.36\n",
       "republican   86.86         64.5    63.64"
      ]
     },
     "execution_count": 5,
     "metadata": {},
     "output_type": "execute_result"
    }
   ],
   "source": [
    "row_totals = df['row_totals'][:-1]\n",
    "col_totals = df.loc['col_totals', :][:-1]\n",
    "totals = df.iloc[-1, -1]\n",
    "\n",
    "expected = np.outer(row_totals, col_totals) / (1.0 * totals)\n",
    "expected = pd.DataFrame(expected)\n",
    "expected.columns = observed.columns\n",
    "expected.index = observed.index\n",
    "\n",
    "expected"
   ]
  },
  {
   "cell_type": "markdown",
   "metadata": {},
   "source": [
    "### Calculate the chi-square statistic"
   ]
  },
  {
   "cell_type": "code",
   "execution_count": 6,
   "metadata": {
    "ExecuteTime": {
     "end_time": "2018-04-05T04:01:58.004233Z",
     "start_time": "2018-04-05T04:01:57.995215Z"
    }
   },
   "outputs": [
    {
     "name": "stdout",
     "output_type": "stream",
     "text": [
      "Chi-square test statistic: 22.152468645918482\n"
     ]
    }
   ],
   "source": [
    "chi_square_stat = (((observed-expected)**2)/expected).sum().sum()\n",
    "\n",
    "print('Chi-square test statistic: {}'.format(chi_square_stat))"
   ]
  },
  {
   "cell_type": "markdown",
   "metadata": {},
   "source": [
    "### Calculate critical value and p value"
   ]
  },
  {
   "cell_type": "code",
   "execution_count": 7,
   "metadata": {
    "ExecuteTime": {
     "end_time": "2018-04-05T04:01:58.016721Z",
     "start_time": "2018-04-05T04:01:58.007027Z"
    }
   },
   "outputs": [
    {
     "name": "stdout",
     "output_type": "stream",
     "text": [
      "Critical value: 5.99146454710798\n",
      "P value: 1.547578021399154e-05\n"
     ]
    }
   ],
   "source": [
    "degree = 2 # Degree of freedoms\n",
    "crit = stats.chi2.ppf(q = 0.95, # Find the critical value for 95% confidence*\n",
    "                      df = degree)\n",
    "\n",
    "print('Critical value: {}'.format(crit))\n",
    "\n",
    "p_value = 1 - stats.chi2.cdf(x=chi_square_stat,  # Find the p-value\n",
    "                             df=degree)\n",
    "\n",
    "print('P value: {}'.format(p_value))"
   ]
  },
  {
   "cell_type": "markdown",
   "metadata": {},
   "source": [
    "__Note:__ You can simply use function `chi2_contingency` to calculate p value."
   ]
  },
  {
   "cell_type": "code",
   "execution_count": 8,
   "metadata": {
    "ExecuteTime": {
     "end_time": "2018-04-05T04:01:58.032017Z",
     "start_time": "2018-04-05T04:01:58.019848Z"
    }
   },
   "outputs": [
    {
     "name": "stdout",
     "output_type": "stream",
     "text": [
      "Result: (22.152468645918482, 1.547578021398957e-05, 2, array([[115.14,  85.5 ,  84.36],\n",
      "       [ 86.86,  64.5 ,  63.64]]))\n",
      "Chi-square test statistic: 22.152468645918482\n",
      "P value: 1.547578021398957e-05\n"
     ]
    }
   ],
   "source": [
    "ret = stats.chi2_contingency(observed=observed)\n",
    "\n",
    "print('Result: {}'.format(ret))\n",
    "print('Chi-square test statistic: {}'.format(ret[0]))\n",
    "print('P value: {}'.format(ret[1]))"
   ]
  },
  {
   "cell_type": "markdown",
   "metadata": {},
   "source": [
    "The p-value 1.547578021398957e-05 is less than 0.05, we reject the null hypothesis that political affiliation and their opinion on a tax reform bill are independent. We conclude that they are dependent, that there is an association between the two variables."
   ]
  },
  {
   "cell_type": "markdown",
   "metadata": {},
   "source": [
    "## Example 2"
   ]
  },
  {
   "cell_type": "markdown",
   "metadata": {
    "ExecuteTime": {
     "end_time": "2018-04-05T03:53:08.431846Z",
     "start_time": "2018-04-05T03:53:08.426203Z"
    }
   },
   "source": [
    "The operations manager of a company that manufactures tires wants to determine whether there are any differences in the quality of workmanship among the three daily shifts. She randomly selects 496 tires and carefully inspects them. Each tire is either classified as perfect, satisfactory, or defective, and the shift that produced it is also recorded. The two categorical variables of interest are: shift and condition of the tire produced."
   ]
  },
  {
   "cell_type": "markdown",
   "metadata": {},
   "source": [
    "### Load data"
   ]
  },
  {
   "cell_type": "code",
   "execution_count": 9,
   "metadata": {
    "ExecuteTime": {
     "end_time": "2018-04-05T04:01:58.045181Z",
     "start_time": "2018-04-05T04:01:58.036613Z"
    }
   },
   "outputs": [],
   "source": [
    "df = pd.read_csv('shift_quality.txt', sep='\\t')\n",
    "df.index = ['Shift1', 'Shift2', 'Shift2']"
   ]
  },
  {
   "cell_type": "markdown",
   "metadata": {},
   "source": [
    "### Observed table"
   ]
  },
  {
   "cell_type": "code",
   "execution_count": 10,
   "metadata": {
    "ExecuteTime": {
     "end_time": "2018-04-05T04:01:58.058475Z",
     "start_time": "2018-04-05T04:01:58.047967Z"
    }
   },
   "outputs": [
    {
     "data": {
      "text/html": [
       "<div>\n",
       "<style scoped>\n",
       "    .dataframe tbody tr th:only-of-type {\n",
       "        vertical-align: middle;\n",
       "    }\n",
       "\n",
       "    .dataframe tbody tr th {\n",
       "        vertical-align: top;\n",
       "    }\n",
       "\n",
       "    .dataframe thead th {\n",
       "        text-align: right;\n",
       "    }\n",
       "</style>\n",
       "<table border=\"1\" class=\"dataframe\">\n",
       "  <thead>\n",
       "    <tr style=\"text-align: right;\">\n",
       "      <th></th>\n",
       "      <th>Perfect</th>\n",
       "      <th>Satisfactory</th>\n",
       "      <th>Defective</th>\n",
       "    </tr>\n",
       "  </thead>\n",
       "  <tbody>\n",
       "    <tr>\n",
       "      <th>Shift1</th>\n",
       "      <td>106</td>\n",
       "      <td>124</td>\n",
       "      <td>1</td>\n",
       "    </tr>\n",
       "    <tr>\n",
       "      <th>Shift2</th>\n",
       "      <td>67</td>\n",
       "      <td>85</td>\n",
       "      <td>1</td>\n",
       "    </tr>\n",
       "    <tr>\n",
       "      <th>Shift2</th>\n",
       "      <td>37</td>\n",
       "      <td>72</td>\n",
       "      <td>3</td>\n",
       "    </tr>\n",
       "  </tbody>\n",
       "</table>\n",
       "</div>"
      ],
      "text/plain": [
       "        Perfect  Satisfactory  Defective\n",
       "Shift1      106           124          1\n",
       "Shift2       67            85          1\n",
       "Shift2       37            72          3"
      ]
     },
     "execution_count": 10,
     "metadata": {},
     "output_type": "execute_result"
    }
   ],
   "source": [
    "observed = df.copy()\n",
    "observed"
   ]
  },
  {
   "cell_type": "markdown",
   "metadata": {},
   "source": [
    "### Calculate totals"
   ]
  },
  {
   "cell_type": "code",
   "execution_count": 11,
   "metadata": {
    "ExecuteTime": {
     "end_time": "2018-04-05T04:01:58.081304Z",
     "start_time": "2018-04-05T04:01:58.061480Z"
    }
   },
   "outputs": [
    {
     "data": {
      "text/html": [
       "<div>\n",
       "<style scoped>\n",
       "    .dataframe tbody tr th:only-of-type {\n",
       "        vertical-align: middle;\n",
       "    }\n",
       "\n",
       "    .dataframe tbody tr th {\n",
       "        vertical-align: top;\n",
       "    }\n",
       "\n",
       "    .dataframe thead th {\n",
       "        text-align: right;\n",
       "    }\n",
       "</style>\n",
       "<table border=\"1\" class=\"dataframe\">\n",
       "  <thead>\n",
       "    <tr style=\"text-align: right;\">\n",
       "      <th></th>\n",
       "      <th>Perfect</th>\n",
       "      <th>Satisfactory</th>\n",
       "      <th>Defective</th>\n",
       "      <th>row_totals</th>\n",
       "    </tr>\n",
       "  </thead>\n",
       "  <tbody>\n",
       "    <tr>\n",
       "      <th>Shift1</th>\n",
       "      <td>106</td>\n",
       "      <td>124</td>\n",
       "      <td>1</td>\n",
       "      <td>231</td>\n",
       "    </tr>\n",
       "    <tr>\n",
       "      <th>Shift2</th>\n",
       "      <td>67</td>\n",
       "      <td>85</td>\n",
       "      <td>1</td>\n",
       "      <td>153</td>\n",
       "    </tr>\n",
       "    <tr>\n",
       "      <th>Shift2</th>\n",
       "      <td>37</td>\n",
       "      <td>72</td>\n",
       "      <td>3</td>\n",
       "      <td>112</td>\n",
       "    </tr>\n",
       "    <tr>\n",
       "      <th>col_totals</th>\n",
       "      <td>210</td>\n",
       "      <td>281</td>\n",
       "      <td>5</td>\n",
       "      <td>496</td>\n",
       "    </tr>\n",
       "  </tbody>\n",
       "</table>\n",
       "</div>"
      ],
      "text/plain": [
       "            Perfect  Satisfactory  Defective  row_totals\n",
       "Shift1          106           124          1         231\n",
       "Shift2           67            85          1         153\n",
       "Shift2           37            72          3         112\n",
       "col_totals      210           281          5         496"
      ]
     },
     "execution_count": 11,
     "metadata": {},
     "output_type": "execute_result"
    }
   ],
   "source": [
    "df['row_totals'] = df.sum(axis=1)\n",
    "df = df.append(df.sum(axis=0), ignore_index=True)\n",
    "df.index = ['Shift1', 'Shift2', 'Shift2', 'col_totals']\n",
    "\n",
    "df"
   ]
  },
  {
   "cell_type": "markdown",
   "metadata": {},
   "source": [
    "### Calculate expected table"
   ]
  },
  {
   "cell_type": "code",
   "execution_count": 12,
   "metadata": {
    "ExecuteTime": {
     "end_time": "2018-04-05T04:01:58.101343Z",
     "start_time": "2018-04-05T04:01:58.083544Z"
    }
   },
   "outputs": [
    {
     "data": {
      "text/html": [
       "<div>\n",
       "<style scoped>\n",
       "    .dataframe tbody tr th:only-of-type {\n",
       "        vertical-align: middle;\n",
       "    }\n",
       "\n",
       "    .dataframe tbody tr th {\n",
       "        vertical-align: top;\n",
       "    }\n",
       "\n",
       "    .dataframe thead th {\n",
       "        text-align: right;\n",
       "    }\n",
       "</style>\n",
       "<table border=\"1\" class=\"dataframe\">\n",
       "  <thead>\n",
       "    <tr style=\"text-align: right;\">\n",
       "      <th></th>\n",
       "      <th>Perfect</th>\n",
       "      <th>Satisfactory</th>\n",
       "      <th>Defective</th>\n",
       "    </tr>\n",
       "  </thead>\n",
       "  <tbody>\n",
       "    <tr>\n",
       "      <th>Shift1</th>\n",
       "      <td>97.802419</td>\n",
       "      <td>130.868952</td>\n",
       "      <td>2.328629</td>\n",
       "    </tr>\n",
       "    <tr>\n",
       "      <th>Shift2</th>\n",
       "      <td>64.778226</td>\n",
       "      <td>86.679435</td>\n",
       "      <td>1.542339</td>\n",
       "    </tr>\n",
       "    <tr>\n",
       "      <th>Shift2</th>\n",
       "      <td>47.419355</td>\n",
       "      <td>63.451613</td>\n",
       "      <td>1.129032</td>\n",
       "    </tr>\n",
       "  </tbody>\n",
       "</table>\n",
       "</div>"
      ],
      "text/plain": [
       "          Perfect  Satisfactory  Defective\n",
       "Shift1  97.802419    130.868952   2.328629\n",
       "Shift2  64.778226     86.679435   1.542339\n",
       "Shift2  47.419355     63.451613   1.129032"
      ]
     },
     "execution_count": 12,
     "metadata": {},
     "output_type": "execute_result"
    }
   ],
   "source": [
    "row_totals = df['row_totals'][:-1]\n",
    "col_totals = df.loc['col_totals', :][:-1]\n",
    "totals = df.iloc[-1, -1]\n",
    "\n",
    "expected = np.outer(row_totals, col_totals) / (1.0 * totals)\n",
    "expected = pd.DataFrame(expected)\n",
    "expected.columns = observed.columns\n",
    "expected.index = observed.index\n",
    "\n",
    "expected"
   ]
  },
  {
   "cell_type": "markdown",
   "metadata": {},
   "source": [
    "### Calculate chi-square test statistic and p value"
   ]
  },
  {
   "cell_type": "code",
   "execution_count": 13,
   "metadata": {
    "ExecuteTime": {
     "end_time": "2018-04-05T04:01:58.110515Z",
     "start_time": "2018-04-05T04:01:58.103738Z"
    }
   },
   "outputs": [
    {
     "name": "stdout",
     "output_type": "stream",
     "text": [
      "Result: (8.646695992462913, 0.07056326693766583, 4, array([[ 97.80241935, 130.86895161,   2.32862903],\n",
      "       [ 64.77822581,  86.67943548,   1.54233871],\n",
      "       [ 47.41935484,  63.4516129 ,   1.12903226]]))\n",
      "Chi-square test statistic: 8.646695992462913\n",
      "P value: 0.07056326693766583\n"
     ]
    }
   ],
   "source": [
    "ret = stats.chi2_contingency(observed=observed)\n",
    "\n",
    "print('Result: {}'.format(ret))\n",
    "print('Chi-square test statistic: {}'.format(ret[0]))\n",
    "print('P value: {}'.format(ret[1]))"
   ]
  },
  {
   "cell_type": "markdown",
   "metadata": {},
   "source": [
    "In the above example, we don't have a significant result at 5% significance level since the p-value (0.07056326693766583) is greater than 0.05. Even if we did have a significant result, we still cannot trust the result, because there are 3 (33.3% of) cells with expected counts < 5.0."
   ]
  },
  {
   "cell_type": "markdown",
   "metadata": {},
   "source": [
    "## Reference"
   ]
  },
  {
   "cell_type": "markdown",
   "metadata": {},
   "source": [
    "1. [9.1 - Chi-Square Test of Independence](https://onlinecourses.science.psu.edu/stat500/node/56)\n",
    "2. [Python for Data Analysis Part 25: Chi-Squared Tests](http://hamelg.blogspot.hk/2015/11/python-for-data-analysis-part-25-chi.html)"
   ]
  }
 ],
 "metadata": {
  "kernelspec": {
   "display_name": "Python 3",
   "language": "python",
   "name": "python3"
  },
  "language_info": {
   "codemirror_mode": {
    "name": "ipython",
    "version": 3
   },
   "file_extension": ".py",
   "mimetype": "text/x-python",
   "name": "python",
   "nbconvert_exporter": "python",
   "pygments_lexer": "ipython3",
   "version": "3.6.5"
  },
  "toc": {
   "nav_menu": {
    "height": "377px",
    "width": "282px"
   },
   "number_sections": true,
   "sideBar": true,
   "skip_h1_title": false,
   "title_cell": "Table of Contents",
   "title_sidebar": "Contents",
   "toc_cell": false,
   "toc_position": {},
   "toc_section_display": true,
   "toc_window_display": false
  }
 },
 "nbformat": 4,
 "nbformat_minor": 2
}
